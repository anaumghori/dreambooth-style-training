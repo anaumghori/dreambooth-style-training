{
  "nbformat": 4,
  "nbformat_minor": 0,
  "metadata": {
    "colab": {
      "provenance": [],
      "authorship_tag": "ABX9TyMBNaLsVjU3JcCOoUCFiQBF",
      "include_colab_link": true
    },
    "kernelspec": {
      "name": "python3",
      "display_name": "Python 3"
    },
    "language_info": {
      "name": "python"
    }
  },
  "cells": [
    {
      "cell_type": "markdown",
      "metadata": {
        "id": "view-in-github",
        "colab_type": "text"
      },
      "source": [
        "<a href=\"https://colab.research.google.com/github/anaumghori/dreambooth-style-training/blob/main/Dreambooth_Training.ipynb\" target=\"_parent\"><img src=\"https://colab.research.google.com/assets/colab-badge.svg\" alt=\"Open In Colab\"/></a>"
      ]
    },
    {
      "cell_type": "code",
      "execution_count": null,
      "metadata": {
        "id": "eUT3e0ffv-jL"
      },
      "outputs": [],
      "source": [
        "# STEP-1\n",
        "\n",
        "!git clone https://github.com/huggingface/diffusers\n",
        "%cd diffusers\n",
        "!pip install .\n",
        "!pip install -r examples/dreambooth/requirements.txt\n",
        "!pip install bitsandbytes --extra-index-url https://jllllll.github.io/bitsandbytes-wheels/\n",
        "!pip install accelerate"
      ]
    },
    {
      "cell_type": "code",
      "source": [
        "# STEP-2\n",
        "\n",
        "from accelerate.utils import write_basic_config\n",
        "write_basic_config()\n",
        "%cd examples/dreambooth"
      ],
      "metadata": {
        "id": "Z3V8J0zRwDR5"
      },
      "execution_count": null,
      "outputs": []
    },
    {
      "cell_type": "code",
      "source": [
        "# STEP-3\n",
        "\n",
        "!accelerate launch train_dreambooth.py \\\n",
        "  --pretrained_model_name_or_path=\"runwayml/stable-diffusion-v1-5\" \\\n",
        "  --instance_data_dir=\"/content/drive/MyDrive/dreambooth_dataset\" \\\n",
        "  --output_dir=\"/content/drive/MyDrive/dreambooth_model\" \\\n",
        "  --instance_prompt=\"foxy\" \\\n",
        "  --resolution=512 \\\n",
        "  --train_batch_size=2 \\\n",
        "  --gradient_accumulation_steps=4 \\\n",
        "  --learning_rate=3e-7 \\\n",
        "  --max_train_steps=6000 \\\n",
        "  --mixed_precision=\"fp16\" \\\n",
        "  --lr_scheduler=\"constant\" \\\n",
        "  --gradient_checkpointing \\\n",
        "  --use_8bit_adam \\\n",
        "  --sample_batch_size=8 \\\n",
        "  --checkpointing_steps=100 \\\n",
        "  --validation_prompt=\"foxy\" \\\n",
        "  --validation_steps=100 \\\n",
        "  --train_text_encoder"
      ],
      "metadata": {
        "id": "Djk64E5DwMFC"
      },
      "execution_count": null,
      "outputs": []
    },
    {
      "cell_type": "markdown",
      "source": [
        "# **Resuming Training and Managing Checkpoints**\n",
        "If your training is interrupted due to an error, you can resume from the last saved checkpoint without starting over. To do this:\n",
        "\n",
        "* Copy the same code block you used for training in Step 3.\n",
        "* Add the following line after ```--train_text_encoder```, replacing the path with the location of your last saved checkpoint:\n",
        "\n",
        "    ```--resume_from_checkpoint=/content/drive/MyDrive/dreambooth_model/checkpoint-200```\n",
        "\n",
        "If you’re saving models and checkpoints directly to Google Drive, you might encounter storage issues if Drive becomes full. One solution is to delete older checkpoints you no longer need. However, keep in mind:\n",
        "\n",
        "* Deleting older checkpoints is irreversible, so only delete them if you’re sure you won’t need to recover those versions.\n",
        "* Alternatively, you can download and store important checkpoints locally or on another storage service to free up Drive space while keeping backups.\n",
        "\n",
        "\n"
      ],
      "metadata": {
        "id": "J83cuSO7xGvV"
      }
    },
    {
      "cell_type": "code",
      "source": [
        "# STEP-4\n",
        "\n",
        "from diffusers import DiffusionPipeline\n",
        "import torch\n",
        "\n",
        "model_path = \"/content/drive/MyDrive/dreambooth_model\"\n",
        "pipeline = DiffusionPipeline.from_pretrained(\n",
        "    model_path,\n",
        "    torch_dtype=torch.float16\n",
        ").to(\"cuda\")"
      ],
      "metadata": {
        "id": "Z1JBY1AkwSbF"
      },
      "execution_count": null,
      "outputs": []
    },
    {
      "cell_type": "code",
      "source": [
        "# TEST THE MODEL BY GENERATING IMAGES\n",
        "\n",
        "prompt = \"A foxy character sitting down\"\n",
        "image = pipeline(prompt, num_inference_steps=50, guidance_scale=9.5).images[0]\n",
        "image.save(\"/content/foxy.png\")"
      ],
      "metadata": {
        "id": "ntpOgWHQwW5Q"
      },
      "execution_count": null,
      "outputs": []
    }
  ]
}